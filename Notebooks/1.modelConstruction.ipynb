{
 "cells": [
  {
   "cell_type": "code",
   "execution_count": 1,
   "id": "b2509ca3",
   "metadata": {},
   "outputs": [
    {
     "name": "stdout",
     "output_type": "stream",
     "text": [
      "scikit-learn version: 1.0.2\n"
     ]
    }
   ],
   "source": [
    "import os\n",
    "import time\n",
    "import math\n",
    "import numpy as np\n",
    "import pandas as pd\n",
    "import scipy.stats as stats\n",
    "from scipy.stats import norm, pearsonr, spearmanr\n",
    "from scipy.spatial import distance\n",
    "### 绘图包\n",
    "import matplotlib.pyplot as plt\n",
    "from matplotlib import gridspec\n",
    "import matplotlib.lines as mlines\n",
    "from matplotlib.font_manager import FontProperties\n",
    "import seaborn as sns\n",
    "import matplotlib as mpl\n",
    "mpl.rcParams['pdf.fonttype'] = 42 # 输出PDF文字可编辑\n",
    "# 机器学习packages\n",
    "import sklearn #collection of machine learning algorithms\n",
    "#Common Model Algorithms\n",
    "from sklearn import svm, tree, linear_model, neighbors, naive_bayes, ensemble, discriminant_analysis, gaussian_process\n",
    "from sklearn.tree import DecisionTreeClassifier\n",
    "from sklearn.neural_network import MLPClassifier\n",
    "from sklearn.svm import SVC\n",
    "import shap\n",
    "from sklearn.metrics import roc_curve, auc\n",
    "from sklearn.utils import resample\n",
    "#Common Model Helpers\n",
    "from sklearn.preprocessing import OneHotEncoder, LabelEncoder\n",
    "from sklearn import feature_selection\n",
    "from sklearn import model_selection\n",
    "from sklearn import metrics\n",
    "from sklearn import linear_model\n",
    "from sklearn.impute import SimpleImputer\n",
    "from sklearn.preprocessing import StandardScaler\n",
    "print(\"scikit-learn version: {}\". format(sklearn.__version__))\n",
    "### 其他\n",
    "import cloudpickle as pickle\n",
    "from biom import load_table\n",
    "import warnings\n",
    "warnings.filterwarnings(\"ignore\") # 报错提示\n",
    "from IPython.core.interactiveshell import InteractiveShell\n",
    "InteractiveShell.ast_node_interactivity = 'all' #last_expr"
   ]
  },
  {
   "cell_type": "markdown",
   "id": "8f8c6cbc",
   "metadata": {},
   "source": [
    "# 1. Data Deal"
   ]
  },
  {
   "cell_type": "code",
   "execution_count": 2,
   "id": "8ed67f41",
   "metadata": {},
   "outputs": [
    {
     "data": {
      "text/plain": [
       "(743, 11)"
      ]
     },
     "execution_count": 2,
     "metadata": {},
     "output_type": "execute_result"
    },
    {
     "data": {
      "text/html": [
       "<div>\n",
       "<style scoped>\n",
       "    .dataframe tbody tr th:only-of-type {\n",
       "        vertical-align: middle;\n",
       "    }\n",
       "\n",
       "    .dataframe tbody tr th {\n",
       "        vertical-align: top;\n",
       "    }\n",
       "\n",
       "    .dataframe thead th {\n",
       "        text-align: right;\n",
       "    }\n",
       "</style>\n",
       "<table border=\"1\" class=\"dataframe\">\n",
       "  <thead>\n",
       "    <tr style=\"text-align: right;\">\n",
       "      <th></th>\n",
       "      <th>住院号</th>\n",
       "      <th>DiagSepsis</th>\n",
       "      <th>心率_次/分</th>\n",
       "      <th>中性粒细胞绝对值_×10^9/L</th>\n",
       "      <th>白细胞计数_×10^9/L</th>\n",
       "      <th>白球比例_NULL</th>\n",
       "      <th>天门冬氨酸氨基转移酶_U/L</th>\n",
       "      <th>钙_mmol/L</th>\n",
       "      <th>γ-谷氨酰基转移酶_U/L</th>\n",
       "      <th>超敏C反应蛋白_mg/L</th>\n",
       "      <th>前白蛋白_mg/L</th>\n",
       "    </tr>\n",
       "  </thead>\n",
       "  <tbody>\n",
       "    <tr>\n",
       "      <th>0</th>\n",
       "      <td>65000428</td>\n",
       "      <td>1</td>\n",
       "      <td>132.0</td>\n",
       "      <td>27.35</td>\n",
       "      <td>31.63</td>\n",
       "      <td>1.11</td>\n",
       "      <td>23.0</td>\n",
       "      <td>2.40</td>\n",
       "      <td>14.0</td>\n",
       "      <td>167.70</td>\n",
       "      <td>93.0</td>\n",
       "    </tr>\n",
       "    <tr>\n",
       "      <th>1</th>\n",
       "      <td>65153247</td>\n",
       "      <td>0</td>\n",
       "      <td>98.0</td>\n",
       "      <td>2.68</td>\n",
       "      <td>5.27</td>\n",
       "      <td>1.76</td>\n",
       "      <td>27.0</td>\n",
       "      <td>2.44</td>\n",
       "      <td>12.0</td>\n",
       "      <td>0.43</td>\n",
       "      <td>208.0</td>\n",
       "    </tr>\n",
       "  </tbody>\n",
       "</table>\n",
       "</div>"
      ],
      "text/plain": [
       "        住院号  DiagSepsis  心率_次/分  中性粒细胞绝对值_×10^9/L  白细胞计数_×10^9/L  白球比例_NULL  \\\n",
       "0  65000428           1   132.0             27.35          31.63       1.11   \n",
       "1  65153247           0    98.0              2.68           5.27       1.76   \n",
       "\n",
       "   天门冬氨酸氨基转移酶_U/L  钙_mmol/L  γ-谷氨酰基转移酶_U/L  超敏C反应蛋白_mg/L  前白蛋白_mg/L  \n",
       "0            23.0      2.40           14.0        167.70       93.0  \n",
       "1            27.0      2.44           12.0          0.43      208.0  "
      ]
     },
     "execution_count": 2,
     "metadata": {},
     "output_type": "execute_result"
    }
   ],
   "source": [
    "data = pd.read_csv('../Data/2.modelData_new.csv')\n",
    "data.shape\n",
    "data.head(2)"
   ]
  },
  {
   "cell_type": "code",
   "execution_count": 3,
   "id": "df3c83ff",
   "metadata": {},
   "outputs": [
    {
     "name": "stdout",
     "output_type": "stream",
     "text": [
      "住院号                 0\n",
      "DiagSepsis          0\n",
      "心率_次/分              0\n",
      "中性粒细胞绝对值_×10^9/L    0\n",
      "白细胞计数_×10^9/L       0\n",
      "白球比例_NULL           0\n",
      "天门冬氨酸氨基转移酶_U/L      0\n",
      "钙_mmol/L            0\n",
      "γ-谷氨酰基转移酶_U/L       0\n",
      "超敏C反应蛋白_mg/L        0\n",
      "前白蛋白_mg/L           0\n",
      "dtype: int64\n"
     ]
    }
   ],
   "source": [
    "#使用平均值补齐\n",
    "mdata = data.fillna(data.mean())  # 对特征使用均值填充\n",
    "print(mdata.isnull().sum())  # 查看每列是否有缺失值"
   ]
  },
  {
   "cell_type": "markdown",
   "id": "c2f6740d",
   "metadata": {},
   "source": [
    "## 1.1 split training and test set"
   ]
  },
  {
   "cell_type": "code",
   "execution_count": 4,
   "id": "072d7033",
   "metadata": {},
   "outputs": [
    {
     "data": {
      "text/html": [
       "<div>\n",
       "<style scoped>\n",
       "    .dataframe tbody tr th:only-of-type {\n",
       "        vertical-align: middle;\n",
       "    }\n",
       "\n",
       "    .dataframe tbody tr th {\n",
       "        vertical-align: top;\n",
       "    }\n",
       "\n",
       "    .dataframe thead th {\n",
       "        text-align: right;\n",
       "    }\n",
       "</style>\n",
       "<table border=\"1\" class=\"dataframe\">\n",
       "  <thead>\n",
       "    <tr style=\"text-align: right;\">\n",
       "      <th></th>\n",
       "      <th>心率_次/分</th>\n",
       "      <th>中性粒细胞绝对值_×10^9/L</th>\n",
       "      <th>白细胞计数_×10^9/L</th>\n",
       "      <th>白球比例_NULL</th>\n",
       "      <th>天门冬氨酸氨基转移酶_U/L</th>\n",
       "      <th>钙_mmol/L</th>\n",
       "      <th>γ-谷氨酰基转移酶_U/L</th>\n",
       "      <th>超敏C反应蛋白_mg/L</th>\n",
       "      <th>前白蛋白_mg/L</th>\n",
       "    </tr>\n",
       "  </thead>\n",
       "  <tbody>\n",
       "    <tr>\n",
       "      <th>0</th>\n",
       "      <td>132.0</td>\n",
       "      <td>27.35</td>\n",
       "      <td>31.63</td>\n",
       "      <td>1.11</td>\n",
       "      <td>23.0</td>\n",
       "      <td>2.40</td>\n",
       "      <td>14.0</td>\n",
       "      <td>167.70</td>\n",
       "      <td>93.0</td>\n",
       "    </tr>\n",
       "    <tr>\n",
       "      <th>1</th>\n",
       "      <td>98.0</td>\n",
       "      <td>2.68</td>\n",
       "      <td>5.27</td>\n",
       "      <td>1.76</td>\n",
       "      <td>27.0</td>\n",
       "      <td>2.44</td>\n",
       "      <td>12.0</td>\n",
       "      <td>0.43</td>\n",
       "      <td>208.0</td>\n",
       "    </tr>\n",
       "  </tbody>\n",
       "</table>\n",
       "</div>"
      ],
      "text/plain": [
       "   心率_次/分  中性粒细胞绝对值_×10^9/L  白细胞计数_×10^9/L  白球比例_NULL  天门冬氨酸氨基转移酶_U/L  \\\n",
       "0   132.0             27.35          31.63       1.11            23.0   \n",
       "1    98.0              2.68           5.27       1.76            27.0   \n",
       "\n",
       "   钙_mmol/L  γ-谷氨酰基转移酶_U/L  超敏C反应蛋白_mg/L  前白蛋白_mg/L  \n",
       "0      2.40           14.0        167.70       93.0  \n",
       "1      2.44           12.0          0.43      208.0  "
      ]
     },
     "execution_count": 4,
     "metadata": {},
     "output_type": "execute_result"
    }
   ],
   "source": [
    "select_cols=mdata.columns[2:11]\n",
    "X=mdata.loc[:,select_cols]\n",
    "y=mdata['DiagSepsis']\n",
    "X.head(2)"
   ]
  },
  {
   "cell_type": "code",
   "execution_count": 5,
   "id": "cc8a2bb7",
   "metadata": {},
   "outputs": [
    {
     "data": {
      "text/plain": [
       "((445, 9), (298, 9))"
      ]
     },
     "execution_count": 5,
     "metadata": {},
     "output_type": "execute_result"
    },
    {
     "name": "stdout",
     "output_type": "stream",
     "text": [
      "----------train set---------\n"
     ]
    },
    {
     "data": {
      "text/plain": [
       "0    258\n",
       "1    187\n",
       "Name: DiagSepsis, dtype: int64"
      ]
     },
     "execution_count": 5,
     "metadata": {},
     "output_type": "execute_result"
    },
    {
     "name": "stdout",
     "output_type": "stream",
     "text": [
      "----------test set---------\n"
     ]
    },
    {
     "data": {
      "text/plain": [
       "0    172\n",
       "1    126\n",
       "Name: DiagSepsis, dtype: int64"
      ]
     },
     "execution_count": 5,
     "metadata": {},
     "output_type": "execute_result"
    }
   ],
   "source": [
    "# Split the data into training and testing sets\n",
    "X_train, X_test, y_train, y_test = model_selection.train_test_split(X, y, \n",
    "                                                                    test_size = 0.4, \n",
    "                                                                    random_state = 0,\n",
    "                                                                    stratify=y)\n",
    "X_train.shape, X_test.shape\n",
    "print(\"----------train set---------\")\n",
    "y_train.value_counts()\n",
    "print(\"----------test set---------\")\n",
    "y_test.value_counts()"
   ]
  },
  {
   "cell_type": "markdown",
   "id": "735a318e",
   "metadata": {},
   "source": [
    "# 2. Model selection"
   ]
  },
  {
   "cell_type": "code",
   "execution_count": 6,
   "id": "f42f011b",
   "metadata": {},
   "outputs": [],
   "source": [
    "# 设置10折交叉验证分组\n",
    "cv_split = model_selection.StratifiedShuffleSplit(n_splits=10, test_size=.4, random_state=1)"
   ]
  },
  {
   "cell_type": "code",
   "execution_count": 7,
   "id": "be225086",
   "metadata": {},
   "outputs": [
    {
     "name": "stdout",
     "output_type": "stream",
     "text": [
      "----------------LogisticRegression----------------\n"
     ]
    },
    {
     "data": {
      "text/plain": [
       "array([0.89139159, 0.89514563, 0.88673139, 0.91585761, 0.91042071,\n",
       "       0.88012945, 0.89268608, 0.87080906, 0.88660194, 0.89928803])"
      ]
     },
     "execution_count": 7,
     "metadata": {},
     "output_type": "execute_result"
    },
    {
     "name": "stdout",
     "output_type": "stream",
     "text": [
      "0.892906148867314 ± 0.012692561585214961\n",
      "----------------RandomForestClassifier----------------\n"
     ]
    },
    {
     "data": {
      "text/plain": [
       "array([0.89728155, 0.85618123, 0.89352751, 0.90582524, 0.91941748,\n",
       "       0.90614887, 0.90996764, 0.87514563, 0.8987055 , 0.91825243])"
      ]
     },
     "execution_count": 7,
     "metadata": {},
     "output_type": "execute_result"
    },
    {
     "name": "stdout",
     "output_type": "stream",
     "text": [
      "0.8980453074433656 ± 0.018525280458498425\n",
      "----------------neural network----------------\n"
     ]
    },
    {
     "data": {
      "text/plain": [
       "array([0.89540453, 0.82886731, 0.88064725, 0.86783172, 0.89825243,\n",
       "       0.87042071, 0.86537217, 0.8366343 , 0.85229773, 0.917411  ])"
      ]
     },
     "execution_count": 7,
     "metadata": {},
     "output_type": "execute_result"
    },
    {
     "name": "stdout",
     "output_type": "stream",
     "text": [
      "0.8713139158576052 ± 0.026329311084741385\n",
      "----------------SVM----------------\n"
     ]
    },
    {
     "data": {
      "text/plain": [
       "array([0.89941748, 0.86860841, 0.8836246 , 0.88297735, 0.91546926,\n",
       "       0.89048544, 0.88530744, 0.85851133, 0.86770227, 0.91145631])"
      ]
     },
     "execution_count": 7,
     "metadata": {},
     "output_type": "execute_result"
    },
    {
     "name": "stdout",
     "output_type": "stream",
     "text": [
      "0.8863559870550161 ± 0.01767343042423792\n",
      "----------------DecisionTree----------------\n"
     ]
    },
    {
     "data": {
      "text/plain": [
       "array([0.68407767, 0.76045307, 0.77197411, 0.76414239, 0.7823301 ,\n",
       "       0.76110032, 0.74957929, 0.73436893, 0.76537217, 0.74899676])"
      ]
     },
     "execution_count": 7,
     "metadata": {},
     "output_type": "execute_result"
    },
    {
     "name": "stdout",
     "output_type": "stream",
     "text": [
      "0.7522394822006473 ± 0.025957669570771422\n"
     ]
    }
   ],
   "source": [
    "# Train the classifier on the training data\n",
    "print(\"----------------LogisticRegression----------------\")\n",
    "clf = linear_model.LogisticRegression(random_state=0)\n",
    "lr_auc=model_selection.cross_validate(clf, X_train, y_train, cv=cv_split, scoring='roc_auc')['test_score']\n",
    "lr_auc\n",
    "print(np.mean(lr_auc),\"±\",np.std(lr_auc))\n",
    "print(\"----------------RandomForestClassifier----------------\")\n",
    "clf = ensemble.RandomForestClassifier(random_state=0)\n",
    "rf_auc=model_selection.cross_validate(clf, X_train, y_train, cv=cv_split, scoring='roc_auc')['test_score']\n",
    "rf_auc\n",
    "print(np.mean(rf_auc),\"±\",np.std(rf_auc))\n",
    "print(\"----------------neural network----------------\")\n",
    "clf = MLPClassifier(random_state=0)\n",
    "nn_auc=model_selection.cross_validate(clf, X_train, y_train, cv=cv_split, scoring='roc_auc')['test_score']\n",
    "nn_auc\n",
    "print(np.mean(nn_auc),\"±\",np.std(nn_auc))\n",
    "print(\"----------------SVM----------------\")\n",
    "clf = SVC(random_state=0, probability=True)  # 需要设置 probability=True 来计算概率\n",
    "svm_auc=model_selection.cross_validate(clf, X_train, y_train, cv=cv_split, scoring='roc_auc')['test_score']\n",
    "svm_auc\n",
    "print(np.mean(svm_auc),\"±\",np.std(svm_auc))\n",
    "print(\"----------------DecisionTree----------------\")\n",
    "clf = DecisionTreeClassifier(random_state=0)\n",
    "dt_auc=model_selection.cross_validate(clf, X_train, y_train, cv=cv_split, scoring='roc_auc')['test_score']\n",
    "dt_auc\n",
    "print(np.mean(dt_auc),\"±\",np.std(dt_auc))"
   ]
  },
  {
   "cell_type": "code",
   "execution_count": 8,
   "id": "4fbba101",
   "metadata": {},
   "outputs": [
    {
     "data": {
      "text/plain": [
       "<Figure size 720x576 with 0 Axes>"
      ]
     },
     "execution_count": 8,
     "metadata": {},
     "output_type": "execute_result"
    },
    {
     "data": {
      "text/plain": [
       "LogisticRegression(random_state=0)"
      ]
     },
     "execution_count": 8,
     "metadata": {},
     "output_type": "execute_result"
    },
    {
     "data": {
      "text/plain": [
       "LogisticRegression(random_state=0)"
      ]
     },
     "execution_count": 8,
     "metadata": {},
     "output_type": "execute_result"
    },
    {
     "data": {
      "text/plain": [
       "LogisticRegression(random_state=0)"
      ]
     },
     "execution_count": 8,
     "metadata": {},
     "output_type": "execute_result"
    },
    {
     "data": {
      "text/plain": [
       "LogisticRegression(random_state=0)"
      ]
     },
     "execution_count": 8,
     "metadata": {},
     "output_type": "execute_result"
    },
    {
     "data": {
      "text/plain": [
       "LogisticRegression(random_state=0)"
      ]
     },
     "execution_count": 8,
     "metadata": {},
     "output_type": "execute_result"
    },
    {
     "data": {
      "text/plain": [
       "LogisticRegression(random_state=0)"
      ]
     },
     "execution_count": 8,
     "metadata": {},
     "output_type": "execute_result"
    },
    {
     "data": {
      "text/plain": [
       "LogisticRegression(random_state=0)"
      ]
     },
     "execution_count": 8,
     "metadata": {},
     "output_type": "execute_result"
    },
    {
     "data": {
      "text/plain": [
       "LogisticRegression(random_state=0)"
      ]
     },
     "execution_count": 8,
     "metadata": {},
     "output_type": "execute_result"
    },
    {
     "data": {
      "text/plain": [
       "LogisticRegression(random_state=0)"
      ]
     },
     "execution_count": 8,
     "metadata": {},
     "output_type": "execute_result"
    },
    {
     "data": {
      "text/plain": [
       "LogisticRegression(random_state=0)"
      ]
     },
     "execution_count": 8,
     "metadata": {},
     "output_type": "execute_result"
    },
    {
     "data": {
      "text/plain": [
       "MLPClassifier(random_state=0)"
      ]
     },
     "execution_count": 8,
     "metadata": {},
     "output_type": "execute_result"
    },
    {
     "data": {
      "text/plain": [
       "MLPClassifier(random_state=0)"
      ]
     },
     "execution_count": 8,
     "metadata": {},
     "output_type": "execute_result"
    },
    {
     "data": {
      "text/plain": [
       "MLPClassifier(random_state=0)"
      ]
     },
     "execution_count": 8,
     "metadata": {},
     "output_type": "execute_result"
    },
    {
     "data": {
      "text/plain": [
       "MLPClassifier(random_state=0)"
      ]
     },
     "execution_count": 8,
     "metadata": {},
     "output_type": "execute_result"
    },
    {
     "data": {
      "text/plain": [
       "MLPClassifier(random_state=0)"
      ]
     },
     "execution_count": 8,
     "metadata": {},
     "output_type": "execute_result"
    },
    {
     "data": {
      "text/plain": [
       "MLPClassifier(random_state=0)"
      ]
     },
     "execution_count": 8,
     "metadata": {},
     "output_type": "execute_result"
    },
    {
     "data": {
      "text/plain": [
       "MLPClassifier(random_state=0)"
      ]
     },
     "execution_count": 8,
     "metadata": {},
     "output_type": "execute_result"
    },
    {
     "data": {
      "text/plain": [
       "MLPClassifier(random_state=0)"
      ]
     },
     "execution_count": 8,
     "metadata": {},
     "output_type": "execute_result"
    },
    {
     "data": {
      "text/plain": [
       "MLPClassifier(random_state=0)"
      ]
     },
     "execution_count": 8,
     "metadata": {},
     "output_type": "execute_result"
    },
    {
     "data": {
      "text/plain": [
       "MLPClassifier(random_state=0)"
      ]
     },
     "execution_count": 8,
     "metadata": {},
     "output_type": "execute_result"
    },
    {
     "data": {
      "text/plain": [
       "RandomForestClassifier(random_state=0)"
      ]
     },
     "execution_count": 8,
     "metadata": {},
     "output_type": "execute_result"
    },
    {
     "data": {
      "text/plain": [
       "RandomForestClassifier(random_state=0)"
      ]
     },
     "execution_count": 8,
     "metadata": {},
     "output_type": "execute_result"
    },
    {
     "data": {
      "text/plain": [
       "RandomForestClassifier(random_state=0)"
      ]
     },
     "execution_count": 8,
     "metadata": {},
     "output_type": "execute_result"
    },
    {
     "data": {
      "text/plain": [
       "RandomForestClassifier(random_state=0)"
      ]
     },
     "execution_count": 8,
     "metadata": {},
     "output_type": "execute_result"
    },
    {
     "data": {
      "text/plain": [
       "RandomForestClassifier(random_state=0)"
      ]
     },
     "execution_count": 8,
     "metadata": {},
     "output_type": "execute_result"
    },
    {
     "data": {
      "text/plain": [
       "RandomForestClassifier(random_state=0)"
      ]
     },
     "execution_count": 8,
     "metadata": {},
     "output_type": "execute_result"
    },
    {
     "data": {
      "text/plain": [
       "RandomForestClassifier(random_state=0)"
      ]
     },
     "execution_count": 8,
     "metadata": {},
     "output_type": "execute_result"
    },
    {
     "data": {
      "text/plain": [
       "RandomForestClassifier(random_state=0)"
      ]
     },
     "execution_count": 8,
     "metadata": {},
     "output_type": "execute_result"
    },
    {
     "data": {
      "text/plain": [
       "RandomForestClassifier(random_state=0)"
      ]
     },
     "execution_count": 8,
     "metadata": {},
     "output_type": "execute_result"
    },
    {
     "data": {
      "text/plain": [
       "RandomForestClassifier(random_state=0)"
      ]
     },
     "execution_count": 8,
     "metadata": {},
     "output_type": "execute_result"
    },
    {
     "data": {
      "text/plain": [
       "SVC(probability=True, random_state=0)"
      ]
     },
     "execution_count": 8,
     "metadata": {},
     "output_type": "execute_result"
    },
    {
     "data": {
      "text/plain": [
       "SVC(probability=True, random_state=0)"
      ]
     },
     "execution_count": 8,
     "metadata": {},
     "output_type": "execute_result"
    },
    {
     "data": {
      "text/plain": [
       "SVC(probability=True, random_state=0)"
      ]
     },
     "execution_count": 8,
     "metadata": {},
     "output_type": "execute_result"
    },
    {
     "data": {
      "text/plain": [
       "SVC(probability=True, random_state=0)"
      ]
     },
     "execution_count": 8,
     "metadata": {},
     "output_type": "execute_result"
    },
    {
     "data": {
      "text/plain": [
       "SVC(probability=True, random_state=0)"
      ]
     },
     "execution_count": 8,
     "metadata": {},
     "output_type": "execute_result"
    },
    {
     "data": {
      "text/plain": [
       "SVC(probability=True, random_state=0)"
      ]
     },
     "execution_count": 8,
     "metadata": {},
     "output_type": "execute_result"
    },
    {
     "data": {
      "text/plain": [
       "SVC(probability=True, random_state=0)"
      ]
     },
     "execution_count": 8,
     "metadata": {},
     "output_type": "execute_result"
    },
    {
     "data": {
      "text/plain": [
       "SVC(probability=True, random_state=0)"
      ]
     },
     "execution_count": 8,
     "metadata": {},
     "output_type": "execute_result"
    },
    {
     "data": {
      "text/plain": [
       "SVC(probability=True, random_state=0)"
      ]
     },
     "execution_count": 8,
     "metadata": {},
     "output_type": "execute_result"
    },
    {
     "data": {
      "text/plain": [
       "SVC(probability=True, random_state=0)"
      ]
     },
     "execution_count": 8,
     "metadata": {},
     "output_type": "execute_result"
    },
    {
     "data": {
      "text/plain": [
       "DecisionTreeClassifier(random_state=0)"
      ]
     },
     "execution_count": 8,
     "metadata": {},
     "output_type": "execute_result"
    },
    {
     "data": {
      "text/plain": [
       "DecisionTreeClassifier(random_state=0)"
      ]
     },
     "execution_count": 8,
     "metadata": {},
     "output_type": "execute_result"
    },
    {
     "data": {
      "text/plain": [
       "DecisionTreeClassifier(random_state=0)"
      ]
     },
     "execution_count": 8,
     "metadata": {},
     "output_type": "execute_result"
    },
    {
     "data": {
      "text/plain": [
       "DecisionTreeClassifier(random_state=0)"
      ]
     },
     "execution_count": 8,
     "metadata": {},
     "output_type": "execute_result"
    },
    {
     "data": {
      "text/plain": [
       "DecisionTreeClassifier(random_state=0)"
      ]
     },
     "execution_count": 8,
     "metadata": {},
     "output_type": "execute_result"
    },
    {
     "data": {
      "text/plain": [
       "DecisionTreeClassifier(random_state=0)"
      ]
     },
     "execution_count": 8,
     "metadata": {},
     "output_type": "execute_result"
    },
    {
     "data": {
      "text/plain": [
       "DecisionTreeClassifier(random_state=0)"
      ]
     },
     "execution_count": 8,
     "metadata": {},
     "output_type": "execute_result"
    },
    {
     "data": {
      "text/plain": [
       "DecisionTreeClassifier(random_state=0)"
      ]
     },
     "execution_count": 8,
     "metadata": {},
     "output_type": "execute_result"
    },
    {
     "data": {
      "text/plain": [
       "DecisionTreeClassifier(random_state=0)"
      ]
     },
     "execution_count": 8,
     "metadata": {},
     "output_type": "execute_result"
    },
    {
     "data": {
      "text/plain": [
       "DecisionTreeClassifier(random_state=0)"
      ]
     },
     "execution_count": 8,
     "metadata": {},
     "output_type": "execute_result"
    },
    {
     "data": {
      "text/plain": [
       "[<matplotlib.lines.Line2D at 0x20c0b4845b0>]"
      ]
     },
     "execution_count": 8,
     "metadata": {},
     "output_type": "execute_result"
    },
    {
     "data": {
      "text/plain": [
       "Text(0.5, 0, 'False Positive Rate')"
      ]
     },
     "execution_count": 8,
     "metadata": {},
     "output_type": "execute_result"
    },
    {
     "data": {
      "text/plain": [
       "Text(0, 0.5, 'True Positive Rate')"
      ]
     },
     "execution_count": 8,
     "metadata": {},
     "output_type": "execute_result"
    },
    {
     "data": {
      "text/plain": [
       "Text(0.5, 1.0, 'ROC Curve for Different Models')"
      ]
     },
     "execution_count": 8,
     "metadata": {},
     "output_type": "execute_result"
    },
    {
     "data": {
      "text/plain": [
       "<matplotlib.legend.Legend at 0x20c0b4b6a90>"
      ]
     },
     "execution_count": 8,
     "metadata": {},
     "output_type": "execute_result"
    },
    {
     "data": {
      "image/png": "[encoded data removed]",
      "text/plain": [
       "<Figure size 720x576 with 1 Axes>"
      ]
     },
     "metadata": {
      "needs_background": "light"
     },
     "output_type": "display_data"
    }
   ],
   "source": [
    "def plot_roc_curve(fpr, tpr, roc_auc, label):\n",
    "    \"\"\"绘制单个模型的 ROC 曲线\"\"\"\n",
    "    plt.plot(fpr, tpr, lw=2, label=f'{label} (AUC = {roc_auc:.2f})')\n",
    "# 模型列表\n",
    "models = {\n",
    "    'Logistic Regression': linear_model.LogisticRegression(random_state=0),\n",
    "    'MLP Classifier': MLPClassifier(random_state=0),\n",
    "    'Random Forest': ensemble.RandomForestClassifier(random_state=0),\n",
    "    'SVM': SVC(random_state=0, probability=True),  # SVM 需要设置 probability=True 来计算概率\n",
    "    'Decision Tree': DecisionTreeClassifier(random_state=0)\n",
    "}\n",
    "\n",
    "# 使用 StratifiedKFold 进行 10 折交叉验证\n",
    "cv = cv_split\n",
    "\n",
    "# 绘制 ROC 曲线\n",
    "plt.figure(figsize=(10, 8))\n",
    "\n",
    "for name, clf in models.items():\n",
    "    # 用于存储每一折的 FPR 和 TPR\n",
    "    mean_fpr = np.linspace(0, 1, 100)\n",
    "    mean_tpr = np.zeros_like(mean_fpr)\n",
    "    auc_scores = []\n",
    "\n",
    "    for train_idx, test_idx in cv.split(X_train, y_train):\n",
    "        X_train_fold, X_test_fold = X_train.iloc[train_idx], X_train.iloc[test_idx]\n",
    "        y_train_fold, y_test_fold = y_train.iloc[train_idx], y_train.iloc[test_idx]\n",
    "        \n",
    "        # 训练模型\n",
    "        clf.fit(X_train_fold, y_train_fold)\n",
    "        \n",
    "        # 预测概率\n",
    "        y_prob = clf.predict_proba(X_test_fold)[:, 1]\n",
    "        \n",
    "        # 计算 FPR 和 TPR\n",
    "        fpr, tpr, _ = roc_curve(y_test_fold, y_prob)\n",
    "        auc_score = auc(fpr, tpr)\n",
    "        auc_scores.append(auc_score)\n",
    "        \n",
    "        # 对每一折的 FPR 和 TPR 进行插值\n",
    "        mean_tpr += np.interp(mean_fpr, fpr, tpr)\n",
    "    \n",
    "    # 计算平均的 TPR\n",
    "    mean_tpr /= cv.get_n_splits()\n",
    "\n",
    "    # 计算 AUC 平均值\n",
    "    mean_auc = np.mean(auc_scores)\n",
    "\n",
    "    # 绘制当前模型的 ROC 曲线\n",
    "    plot_roc_curve(mean_fpr, mean_tpr, mean_auc, name)\n",
    "\n",
    "# 绘制随机模型对角线（假设模型没有预测能力）\n",
    "plt.plot([0, 1], [0, 1], color='navy', linestyle='--', lw=3)\n",
    "\n",
    "# 配置图表\n",
    "plt.xlabel('False Positive Rate')\n",
    "plt.ylabel('True Positive Rate')\n",
    "plt.title('ROC Curve for Different Models')\n",
    "plt.legend(loc='lower right')\n",
    "plt.grid(True)\n",
    "plt.savefig('../Results/1.multiModelAUC_new.pdf',bbox_inches = 'tight')\n",
    "plt.show()"
   ]
  },
  {
   "cell_type": "markdown",
   "id": "7b3bd67d",
   "metadata": {},
   "source": [
    "# 3. Model construction"
   ]
  },
  {
   "cell_type": "code",
   "execution_count": 9,
   "id": "2a69e459",
   "metadata": {},
   "outputs": [
    {
     "data": {
      "text/plain": [
       "{'fit_time': array([0.08192754, 0.08077145, 0.07460999, 0.07312965, 0.07102513,\n",
       "        0.07342601, 0.06802416, 0.07129049, 0.07392979, 0.0797255 ]),\n",
       " 'score_time': array([0.01012158, 0.00700331, 0.00750685, 0.00787091, 0.00799489,\n",
       "        0.00796032, 0.00914431, 0.00759435, 0.00878334, 0.00801611]),\n",
       " 'test_score': array([0.90796117, 0.86317152, 0.89553398, 0.90110032, 0.93682848,\n",
       "        0.90252427, 0.90433657, 0.89087379, 0.88919094, 0.92660194]),\n",
       " 'train_score': array([0.93623272, 0.94896313, 0.94423963, 0.93669355, 0.92269585,\n",
       "        0.94043779, 0.94182028, 0.94516129, 0.94648618, 0.93116359])}"
      ]
     },
     "execution_count": 9,
     "metadata": {},
     "output_type": "execute_result"
    }
   ],
   "source": [
    "SEED=0\n",
    "rfc = ensemble.RandomForestClassifier(n_estimators=100, max_features=0.1, max_samples=0.7, max_depth=3, \n",
    "                                      class_weight='balanced', random_state=SEED)\n",
    "results = model_selection.cross_validate(rfc, X_train, y_train, cv=cv_split, scoring='roc_auc', return_train_score=True)\n",
    "results"
   ]
  },
  {
   "cell_type": "code",
   "execution_count": 10,
   "id": "37b6d7ab",
   "metadata": {},
   "outputs": [
    {
     "data": {
      "text/plain": [
       "GridSearchCV(cv=StratifiedShuffleSplit(n_splits=10, random_state=1, test_size=0.4,\n",
       "            train_size=None),\n",
       "             estimator=RandomForestClassifier(n_jobs=-1, oob_score=True),\n",
       "             param_grid={'class_weight': ['balanced'], 'max_depth': [1, 2, 3],\n",
       "                         'max_features': [0.1, 0.2, 0.3],\n",
       "                         'max_samples': [0.3, 0.5, 0.7],\n",
       "                         'n_estimators': [20, 50, 100, 200],\n",
       "                         'random_state': [0]},\n",
       "             return_train_score=True, scoring='roc_auc')"
      ]
     },
     "execution_count": 10,
     "metadata": {},
     "output_type": "execute_result"
    },
    {
     "data": {
      "text/plain": [
       "{'class_weight': 'balanced',\n",
       " 'max_depth': 3,\n",
       " 'max_features': 0.3,\n",
       " 'max_samples': 0.5,\n",
       " 'n_estimators': 200,\n",
       " 'random_state': 0}"
      ]
     },
     "execution_count": 10,
     "metadata": {},
     "output_type": "execute_result"
    },
    {
     "data": {
      "text/plain": [
       "0.9436405529953916"
      ]
     },
     "execution_count": 10,
     "metadata": {},
     "output_type": "execute_result"
    },
    {
     "data": {
      "text/plain": [
       "0.9058899676375406"
      ]
     },
     "execution_count": 10,
     "metadata": {},
     "output_type": "execute_result"
    }
   ],
   "source": [
    "param_grid = {'n_estimators':[20,50,100, 200], \n",
    "              'max_depth':[1, 2, 3], \n",
    "              'max_features':[0.1, 0.2, 0.3], \n",
    "              'class_weight':['balanced'],\n",
    "              'max_samples':[0.3, 0.5,0.7],\n",
    "              'random_state':[SEED]}\n",
    "tune_model = model_selection.GridSearchCV(ensemble.RandomForestClassifier(oob_score=True, n_jobs=-1), \n",
    "                                          param_grid=param_grid, \n",
    "                                          scoring = 'roc_auc', \n",
    "                                          cv = cv_split, \n",
    "                                          return_train_score=True)\n",
    "tune_model.fit(X_train, y_train)\n",
    "tune_model.best_params_\n",
    "tune_model.cv_results_['mean_train_score'][tune_model.best_index_]\n",
    "tune_model.cv_results_['mean_test_score'][tune_model.best_index_]"
   ]
  },
  {
   "cell_type": "code",
   "execution_count": 11,
   "id": "1a98b3ee",
   "metadata": {},
   "outputs": [
    {
     "data": {
      "text/plain": [
       "RandomForestClassifier(class_weight='balanced', max_depth=3, max_features=0.3,\n",
       "                       max_samples=0.5, n_estimators=200, random_state=0)"
      ]
     },
     "execution_count": 11,
     "metadata": {},
     "output_type": "execute_result"
    },
    {
     "data": {
      "text/plain": [
       "0.8584269662921349"
      ]
     },
     "execution_count": 11,
     "metadata": {},
     "output_type": "execute_result"
    },
    {
     "data": {
      "text/plain": [
       "0.8523489932885906"
      ]
     },
     "execution_count": 11,
     "metadata": {},
     "output_type": "execute_result"
    }
   ],
   "source": [
    "rfc = ensemble.RandomForestClassifier(n_estimators= 200, max_features=0.3, max_samples=0.5, max_depth=3, \n",
    "                                      class_weight='balanced', random_state=0)\n",
    "rfc.fit(X_train, y_train)\n",
    "rfc.score(X_train, y_train) # Accuracy\n",
    "rfc.score(X_test, y_test) # Accuracy"
   ]
  },
  {
   "cell_type": "markdown",
   "id": "0a1517e8",
   "metadata": {},
   "source": [
    "# 4. Model performance"
   ]
  },
  {
   "cell_type": "markdown",
   "id": "d1591c54",
   "metadata": {},
   "source": [
    "## 4.1 training set"
   ]
  },
  {
   "cell_type": "code",
   "execution_count": 12,
   "id": "92954741",
   "metadata": {},
   "outputs": [
    {
     "name": "stdout",
     "output_type": "stream",
     "text": [
      "roc_auc: 0.9341085271317829\n"
     ]
    },
    {
     "data": {
      "text/plain": [
       "<Figure size 432x432 with 0 Axes>"
      ]
     },
     "execution_count": 12,
     "metadata": {},
     "output_type": "execute_result"
    },
    {
     "data": {
      "text/plain": [
       "Text(0.5, 1.0, 'ROC')"
      ]
     },
     "execution_count": 12,
     "metadata": {},
     "output_type": "execute_result"
    },
    {
     "data": {
      "text/plain": [
       "[<matplotlib.lines.Line2D at 0x20c0bba4a00>]"
      ]
     },
     "execution_count": 12,
     "metadata": {},
     "output_type": "execute_result"
    },
    {
     "data": {
      "text/plain": [
       "<matplotlib.collections.PathCollection at 0x20c0bba4dc0>"
      ]
     },
     "execution_count": 12,
     "metadata": {},
     "output_type": "execute_result"
    },
    {
     "data": {
      "text/plain": [
       "<matplotlib.legend.Legend at 0x20c0bba45e0>"
      ]
     },
     "execution_count": 12,
     "metadata": {},
     "output_type": "execute_result"
    },
    {
     "data": {
      "text/plain": [
       "[<matplotlib.lines.Line2D at 0x20c09ad9e20>]"
      ]
     },
     "execution_count": 12,
     "metadata": {},
     "output_type": "execute_result"
    },
    {
     "data": {
      "text/plain": [
       "(-0.05, 1.05)"
      ]
     },
     "execution_count": 12,
     "metadata": {},
     "output_type": "execute_result"
    },
    {
     "data": {
      "text/plain": [
       "(-0.05, 1.05)"
      ]
     },
     "execution_count": 12,
     "metadata": {},
     "output_type": "execute_result"
    },
    {
     "data": {
      "text/plain": [
       "Text(0.5, 0, '1 - Specificity')"
      ]
     },
     "execution_count": 12,
     "metadata": {},
     "output_type": "execute_result"
    },
    {
     "data": {
      "text/plain": [
       "Text(0, 0.5, 'Sensitivity')"
      ]
     },
     "execution_count": 12,
     "metadata": {},
     "output_type": "execute_result"
    },
    {
     "data": {
      "image/png": "[encoded data removed]",
      "text/plain": [
       "<Figure size 432x432 with 1 Axes>"
      ]
     },
     "metadata": {
      "needs_background": "light"
     },
     "output_type": "display_data"
    }
   ],
   "source": [
    "pred = rfc.predict_proba(X_train)[:,1]\n",
    "#############画图部分训练集AUC\n",
    "fpr, tpr, threshold = metrics.roc_curve(y_train, pred)\n",
    "roc_auc = auc(fpr, tpr)\n",
    "print('roc_auc:', roc_auc)\n",
    "# 计算Youden's J统计量\n",
    "youden_j = tpr - fpr\n",
    "best_idx = np.argmax(youden_j)  # 找到J最大的索引\n",
    "best_threshold = threshold[best_idx]  # 最佳阈值\n",
    "best_fpr = 1-fpr[best_idx]  # 最佳阈值对应的FPR\n",
    "best_tpr = tpr[best_idx]  # 最佳阈值对应的TPR\n",
    "\n",
    "plt.figure(figsize=(6,6))\n",
    "plt.title('ROC')\n",
    "plt.plot(fpr, tpr, 'b', label = 'AUC = %0.3f' % roc_auc)\n",
    "plt.scatter(1-best_fpr, best_tpr, color='red', label=f'cutoff point={best_threshold:.3f}, 1-FPR={best_fpr:.3f}, TPR={best_tpr:.3f})')\n",
    "plt.legend(loc = 'lower right')\n",
    "plt.plot([0, 1], [0, 1],'r--')\n",
    "plt.xlim([-0.05, 1.05])  # 设置x、y轴的上下限，以免和边缘重合，更好的观察图像的整体\n",
    "plt.ylim([-0.05, 1.05])\n",
    "plt.xlabel('1 - Specificity')\n",
    "plt.ylabel('Sensitivity')\n",
    "plt.savefig('../Results/1.3.TrainROC_new.pdf',bbox_inches = 'tight')\n",
    "plt.show()"
   ]
  },
  {
   "cell_type": "code",
   "execution_count": 13,
   "id": "3d39992f",
   "metadata": {},
   "outputs": [
    {
     "name": "stdout",
     "output_type": "stream",
     "text": [
      "roc_auc: 0.9341085271317829\n",
      "95% CI for AUC: (0.9115309278311233, 0.9502455412564086)\n"
     ]
    }
   ],
   "source": [
    "# 计算原始AUC\n",
    "pred = rfc.predict_proba(X_train)[:,1]\n",
    "fpr, tpr, threshold = metrics.roc_curve(y_train, pred)\n",
    "roc_auc = auc(fpr, tpr)\n",
    "print('roc_auc:', roc_auc)\n",
    "\n",
    "# 自助法（Bootstrap）计算AUC的95%置信区间\n",
    "n_iterations = 100\n",
    "auc_scores = []\n",
    "\n",
    "for i in range(n_iterations):\n",
    "    # 随机抽样（有放回）\n",
    "    X_resample, y_resample = resample(X_train, y_train, random_state=i)\n",
    "    #rfc.fit(X_resample, y_resample)\n",
    "    y_pred_prob_resample = rfc.predict_proba(X_resample)[:, 1]\n",
    "    fpr, tpr, threshold = metrics.roc_curve(y_resample, y_pred_prob_resample)\n",
    "    auc_resample=auc(fpr, tpr)\n",
    "    auc_scores.append(auc_resample)\n",
    "\n",
    "# 计算置信区间\n",
    "auc_lower = np.percentile(auc_scores, 2.5)\n",
    "auc_upper = np.percentile(auc_scores, 97.5)\n",
    "\n",
    "print(f\"95% CI for AUC: ({auc_lower}, {auc_upper})\")"
   ]
  },
  {
   "cell_type": "code",
   "execution_count": 15,
   "id": "bdd14948",
   "metadata": {},
   "outputs": [],
   "source": [
    "X_train['predicteScore']=rfc.predict_proba(X_train)[:,1]\n",
    "X_train['DiagSepsis']=y_train\n",
    "X_train.to_csv('../Data/trainingSet.csv', index=None)"
   ]
  },
  {
   "cell_type": "markdown",
   "id": "1aa1abb7",
   "metadata": {},
   "source": [
    "## 4.2 test set"
   ]
  },
  {
   "cell_type": "code",
   "execution_count": 14,
   "id": "026183eb",
   "metadata": {},
   "outputs": [
    {
     "data": {
      "text/plain": [
       "0.9002399409376154"
      ]
     },
     "execution_count": 14,
     "metadata": {},
     "output_type": "execute_result"
    },
    {
     "data": {
      "text/plain": [
       "<Figure size 432x432 with 0 Axes>"
      ]
     },
     "execution_count": 14,
     "metadata": {},
     "output_type": "execute_result"
    },
    {
     "data": {
      "text/plain": [
       "Text(0.5, 1.0, 'Validation ROC')"
      ]
     },
     "execution_count": 14,
     "metadata": {},
     "output_type": "execute_result"
    },
    {
     "data": {
      "text/plain": [
       "[<matplotlib.lines.Line2D at 0x20c0c06af70>]"
      ]
     },
     "execution_count": 14,
     "metadata": {},
     "output_type": "execute_result"
    },
    {
     "data": {
      "text/plain": [
       "<matplotlib.legend.Legend at 0x20c0bb84700>"
      ]
     },
     "execution_count": 14,
     "metadata": {},
     "output_type": "execute_result"
    },
    {
     "data": {
      "text/plain": [
       "[<matplotlib.lines.Line2D at 0x20c0bded5b0>]"
      ]
     },
     "execution_count": 14,
     "metadata": {},
     "output_type": "execute_result"
    },
    {
     "data": {
      "text/plain": [
       "(-0.05, 1.05)"
      ]
     },
     "execution_count": 14,
     "metadata": {},
     "output_type": "execute_result"
    },
    {
     "data": {
      "text/plain": [
       "(-0.05, 1.05)"
      ]
     },
     "execution_count": 14,
     "metadata": {},
     "output_type": "execute_result"
    },
    {
     "data": {
      "text/plain": [
       "Text(0.5, 0, '1-Specificity')"
      ]
     },
     "execution_count": 14,
     "metadata": {},
     "output_type": "execute_result"
    },
    {
     "data": {
      "text/plain": [
       "Text(0, 0.5, 'Sensitivity')"
      ]
     },
     "execution_count": 14,
     "metadata": {},
     "output_type": "execute_result"
    },
    {
     "data": {
      "image/png": "[encoded data removed]",
      "text/plain": [
       "<Figure size 432x432 with 1 Axes>"
      ]
     },
     "metadata": {
      "needs_background": "light"
     },
     "output_type": "display_data"
    }
   ],
   "source": [
    "pred = rfc.predict_proba(X_test)[:,1]\n",
    "#############画图部分\n",
    "fpr, tpr, threshold = metrics.roc_curve(y_test, pred)\n",
    "roc_auc = auc(fpr, tpr)\n",
    "roc_auc\n",
    "plt.figure(figsize=(6,6))\n",
    "plt.title('Validation ROC')\n",
    "plt.plot(fpr, tpr, 'b', label = 'Val AUC = %0.3f' % roc_auc)\n",
    "plt.legend(loc = 'lower right')\n",
    "plt.plot([0, 1], [0, 1],'r--')\n",
    "plt.xlim([-0.05, 1.05])  # 设置x、y轴的上下限，以免和边缘重合，更好的观察图像的整体\n",
    "plt.ylim([-0.05, 1.05])\n",
    "plt.xlabel('1-Specificity')\n",
    "plt.ylabel('Sensitivity')\n",
    "plt.savefig('../Results/1.3.TestROC_new.pdf',bbox_inches = 'tight')\n",
    "plt.show()"
   ]
  },
  {
   "cell_type": "code",
   "execution_count": 15,
   "id": "2696d675",
   "metadata": {},
   "outputs": [
    {
     "data": {
      "text/html": [
       "<div>\n",
       "<style scoped>\n",
       "    .dataframe tbody tr th:only-of-type {\n",
       "        vertical-align: middle;\n",
       "    }\n",
       "\n",
       "    .dataframe tbody tr th {\n",
       "        vertical-align: top;\n",
       "    }\n",
       "\n",
       "    .dataframe thead th {\n",
       "        text-align: right;\n",
       "    }\n",
       "</style>\n",
       "<table border=\"1\" class=\"dataframe\">\n",
       "  <thead>\n",
       "    <tr style=\"text-align: right;\">\n",
       "      <th></th>\n",
       "      <th>1-Specificity</th>\n",
       "      <th>Sensitivity</th>\n",
       "      <th>Specificity</th>\n",
       "      <th>tf</th>\n",
       "      <th>threshold</th>\n",
       "    </tr>\n",
       "  </thead>\n",
       "  <tbody>\n",
       "    <tr>\n",
       "      <th>40</th>\n",
       "      <td>0.156977</td>\n",
       "      <td>0.84127</td>\n",
       "      <td>0.843023</td>\n",
       "      <td>-0.001753</td>\n",
       "      <td>0.603006</td>\n",
       "    </tr>\n",
       "  </tbody>\n",
       "</table>\n",
       "</div>"
      ],
      "text/plain": [
       "    1-Specificity  Sensitivity  Specificity        tf  threshold\n",
       "40       0.156977      0.84127     0.843023 -0.001753   0.603006"
      ]
     },
     "execution_count": 15,
     "metadata": {},
     "output_type": "execute_result"
    }
   ],
   "source": [
    "i = np.arange(len(tpr)) # index for df\n",
    "\n",
    "roc = pd.DataFrame({'1-Specificity' : pd.Series(fpr, index=i),'Sensitivity' : pd.Series(tpr, index = i), 'Specificity' : pd.Series(1-fpr, index = i), 'tf' : pd.Series(tpr - (1-fpr), index = i), 'threshold' : pd.Series(threshold, index = i)})\n",
    "\n",
    "roc.iloc[(roc.tf-0).abs().argsort()[:1]]"
   ]
  },
  {
   "cell_type": "code",
   "execution_count": 16,
   "id": "20540d0b",
   "metadata": {},
   "outputs": [
    {
     "name": "stdout",
     "output_type": "stream",
     "text": [
      "roc_auc: 0.9002399409376154\n",
      "95% CI for AUC: (0.862192084533414, 0.9257768195922497)\n"
     ]
    }
   ],
   "source": [
    "# 计算原始AUC\n",
    "pred = rfc.predict_proba(X_test)[:,1]\n",
    "fpr, tpr, threshold = metrics.roc_curve(y_test, pred)\n",
    "roc_auc = auc(fpr, tpr)\n",
    "print('roc_auc:', roc_auc)\n",
    "\n",
    "# 自助法（Bootstrap）计算AUC的95%置信区间\n",
    "n_iterations = 100\n",
    "auc_scores = []\n",
    "\n",
    "for i in range(n_iterations):\n",
    "    # 随机抽样（有放回）\n",
    "    X_resample, y_resample = resample(X_test, y_test, random_state=i)\n",
    "    y_pred_prob_resample = rfc.predict_proba(X_resample)[:, 1]\n",
    "    fpr, tpr, threshold = metrics.roc_curve(y_resample, y_pred_prob_resample)\n",
    "    auc_resample=auc(fpr, tpr)\n",
    "    auc_scores.append(auc_resample)\n",
    "\n",
    "# 计算置信区间\n",
    "auc_lower = np.percentile(auc_scores, 2.5)\n",
    "auc_upper = np.percentile(auc_scores, 97.5)\n",
    "\n",
    "print(f\"95% CI for AUC: ({auc_lower}, {auc_upper})\")"
   ]
  },
  {
   "cell_type": "code",
   "execution_count": 17,
   "id": "bb84e1b2",
   "metadata": {},
   "outputs": [],
   "source": [
    "X_test['predicteScore']=rfc.predict_proba(X_test)[:,1]\n",
    "X_test['DiagSepsis']=y_test\n",
    "X_test.to_csv('../Data/testSet_new.csv', index=None)"
   ]
  }
 ],
 "metadata": {
  "kernelspec": {
   "display_name": "Python 3 (ipykernel)",
   "language": "python",
   "name": "python3"
  },
  "language_info": {
   "codemirror_mode": {
    "name": "ipython",
    "version": 3
   },
   "file_extension": ".py",
   "mimetype": "text/x-python",
   "name": "python",
   "nbconvert_exporter": "python",
   "pygments_lexer": "ipython3",
   "version": "3.9.12"
  }
 },
 "nbformat": 4,
 "nbformat_minor": 5
}
